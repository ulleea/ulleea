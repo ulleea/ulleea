{
  "metadata": {
    "kernelspec": {
      "name": "python",
      "display_name": "Python (Pyodide)",
      "language": "python"
    },
    "language_info": {
      "codemirror_mode": {
        "name": "python",
        "version": 3
      },
      "file_extension": ".py",
      "mimetype": "text/x-python",
      "name": "python",
      "nbconvert_exporter": "python",
      "pygments_lexer": "ipython3",
      "version": "3.8"
    }
  },
  "nbformat_minor": 4,
  "nbformat": 4,
  "cells": [
    {
      "cell_type": "markdown",
      "source": "*Credits: materials from this notebook belong to YSDA [Practical DL](https://github.com/yandexdataschool/Practical_DL) course. Special thanks for making them available online.*",
      "metadata": {}
    },
    {
      "cell_type": "markdown",
      "source": "# Lab assignment №1, part 1\n\nThis lab assignment consists of several parts. You are supposed to make some transformations, train some models, estimate the quality of the models and explain your results.\n\nSeveral comments:\n* Don't hesitate to ask questions, it's a good practice.\n* No private/public sharing, please. The copied assignments will be graded with 0 points.\n* Blocks of this lab will be graded separately.",
      "metadata": {}
    },
    {
      "cell_type": "markdown",
      "source": "## 1. Matrix differentiation",
      "metadata": {}
    },
    {
      "cell_type": "markdown",
      "source": "Since it easy to google every task please please please try to undestand what's going on. The \"just answer\" thing will be not counted, make sure to present derivation of your solution. It is absolutely OK if you found an answer on web then just exercise in $\\LaTeX$ copying it into here.",
      "metadata": {}
    },
    {
      "cell_type": "markdown",
      "source": "Useful links: \n[1](http://www.machinelearning.ru/wiki/images/2/2a/Matrix-Gauss.pdf)\n[2](http://www.atmos.washington.edu/~dennis/MatrixCalculus.pdf)",
      "metadata": {}
    },
    {
      "cell_type": "markdown",
      "source": "## ex. 1",
      "metadata": {}
    },
    {
      "cell_type": "markdown",
      "source": "$$  \ny = x^Tx,  \\quad x \\in \\mathbb{R}^N \n$$",
      "metadata": {}
    },
    {
      "cell_type": "markdown",
      "source": "$$\n\\frac{dy}{dx} = 2x^T\n$$ ",
      "metadata": {}
    },
    {
      "cell_type": "markdown",
      "source": "Solution: \n$$\\frac{dy}{dx} = \\frac{dx^Tx}{dx} = x^T\\frac{dx}{dx} + \\frac{dx^T}{dx}x = x^T\\frac{dx}{dx} + x^T\\frac{dx}{dx} = 2x^T  $$ ",
      "metadata": {
        "jupyter": {
          "outputs_hidden": true
        }
      }
    },
    {
      "cell_type": "markdown",
      "source": "## ex. 2",
      "metadata": {}
    },
    {
      "cell_type": "markdown",
      "source": "$$ y = tr(AB) \\quad A,B \\in \\mathbb{R}^{N \\times N} $$ ",
      "metadata": {}
    },
    {
      "cell_type": "markdown",
      "source": "$$\n\\frac{dy}{dA} =B^T\n$$",
      "metadata": {}
    },
    {
      "cell_type": "markdown",
      "source": "Solution:\n\n$$y =tr(\\sum \\limits_{i=1}^N \\sum \\limits_{j=1}^N{A_{ij}B_{ji}})$$\n$$\\frac{dy}{dA_{kl}} = B_{lk} \\rightarrow \\frac{dy}{dA}=B^T$$",
      "metadata": {
        "jupyter": {
          "outputs_hidden": true
        }
      }
    },
    {
      "cell_type": "markdown",
      "source": "## ex. 3",
      "metadata": {}
    },
    {
      "cell_type": "markdown",
      "source": "$$  \ny = x^TAc , \\quad A\\in \\mathbb{R}^{N \\times N}, x\\in \\mathbb{R}^{N}, c\\in \\mathbb{R}^{N} \n$$",
      "metadata": {}
    },
    {
      "cell_type": "markdown",
      "source": "$$\n\\frac{dy}{dx} =(Ac)^T\n$$",
      "metadata": {}
    },
    {
      "cell_type": "markdown",
      "source": "$$\n\\frac{dy}{dA} =xc^T\n$$ ",
      "metadata": {}
    },
    {
      "cell_type": "markdown",
      "source": "Hint for the latter (one of the ways): use *ex. 2* result and the fact \n$$\ntr(ABC) = tr (CAB)\n$$",
      "metadata": {}
    },
    {
      "cell_type": "markdown",
      "source": "Solution:\n$$y = \\sum\\limits_{i=1}^N \\sum\\limits_{j=1}^N {x_i A_{ij}c_j}$$\n$$\\frac{dy}{dx_k}= \\sum \\limits_{j=1}^N A_{kj}c_j\\rightarrow \\frac{dy}{dx} = (Ac)^T$$\n$$\\frac{dy}{dA_{kl}} = x_k c_l\\rightarrow \\frac{dy}{dA} =  xc^T\n$$",
      "metadata": {
        "jupyter": {
          "outputs_hidden": true
        }
      }
    },
    {
      "cell_type": "markdown",
      "source": "## ex. 4",
      "metadata": {}
    },
    {
      "cell_type": "markdown",
      "source": "Classic matrix factorization example. Given matrix $X$ you need to find $A$, $S$ to approximate $X$. This can be done by simple gradient descent iteratively alternating $A$ and $S$ updates.\n$$\nJ = || X - AS ||_F^2  , \\quad A\\in \\mathbb{R}^{N \\times R} , \\quad S\\in \\mathbb{R}^{R \\times M}\n$$\n$$\n\\frac{dJ}{dS} = ? \n$$\n\nYou may use one of the following approaches:",
      "metadata": {}
    },
    {
      "cell_type": "markdown",
      "source": "#### First approach\nUsing ex.2 and the fact:\n$$\n|| X ||_F^2 = tr(XX^T) \n$$ \nit is easy to derive gradients (you can find it in one of the refs). ",
      "metadata": {}
    },
    {
      "cell_type": "markdown",
      "source": "#### Second approach\nYou can use *slightly different techniques* if they suits you. Take a look at this derivation:\n<img src=\"grad.png\">\n(excerpt from [Handbook of blind source separation, Jutten, page 517](https://books.google.ru/books?id=PTbj03bYH6kC&printsec=frontcover&dq=Handbook+of+Blind+Source+Separation&hl=en&sa=X&ved=0ahUKEwi-q_apiJDLAhULvXIKHVXJDWcQ6AEIHDAA#v=onepage&q=Handbook%20of%20Blind%20Source%20Separation&f=false), open for better picture).",
      "metadata": {}
    },
    {
      "cell_type": "markdown",
      "source": "#### Third approach\nAnd finally we can use chain rule! \nlet $ F = AS $ \n\n**Find**\n$$\n\\frac{dJ}{dF} =  \n$$ \nand \n$$\n\\frac{dF}{dS} =  \n$$ \n(the shape should be $ NM \\times RM )$.\n\nNow it is easy do get desired gradients:\n$$\n\\frac{dJ}{dS} =  \n$$ ",
      "metadata": {}
    },
    {
      "cell_type": "markdown",
      "source": "Solution:\n$$J = ||X - AS||^2_F = tr((X-AS)(X-AS)^T) = tr((X-AS)(X^T-S^T A^T)) =\ntr(XX^T - XS^T A^T - ASX^T + ASS^T A^T) = \\\\\ntr(XX^T) - tr(XS^T A^T) - tr(ASX^T) + tr(ASS^T A^T) = \ntr(XX^T) - 2tr(SX^T A) + tr(SS^T A^T A)$$\n$$\\frac{d(tr(XX^T))}{dS} = 0$$\n$$\\frac{d(tr(SX^TA))}{dS} = A^T X$$\n$$\\frac{d(tr(SS^T A^T A))}{dS} = \\frac{d(tr(SS^T A^T A))}{dSS^T} \\frac{dSS^T}{dS} = 2A^T A S$$\n$$\\frac{dJ}{dS} = 2A^T A S - 2A^T X = -2A^T(X-AS)$$",
      "metadata": {}
    },
    {
      "cell_type": "markdown",
      "source": "## 2. kNN questions\nHere come the questions from the assignment0_01. Please, refer to the assignment0_01 to get the context of the questions.",
      "metadata": {
        "jupyter": {
          "outputs_hidden": true
        }
      }
    },
    {
      "cell_type": "markdown",
      "source": "### Question 1\n\nNotice the structured patterns in the distance matrix, where some rows or columns are visible brighter. (Note that with the default color scheme black indicates low distances while white indicates high distances.)\n\n- What in the data is the cause behind the distinctly bright rows?\n- What causes the columns?\n\n*Your Answer:*\n\n\n",
      "metadata": {}
    },
    {
      "cell_type": "markdown",
      "source": "### Question 2\n\nWe can also use other distance metrics such as L1 distance.\nFor pixel values $p_{ij}^{(k)}$ at location $(i,j)$ of some image $I_k$, \n\nthe mean $\\mu$ across all pixels over all images is $$\\mu=\\frac{1}{nhw}\\sum_{k=1}^n\\sum_{i=1}^{h}\\sum_{j=1}^{w}p_{ij}^{(k)}$$\nAnd the pixel-wise mean $\\mu_{ij}$ across all images is \n$$\\mu_{ij}=\\frac{1}{n}\\sum_{k=1}^np_{ij}^{(k)}.$$\nThe general standard deviation $\\sigma$ and pixel-wise standard deviation $\\sigma_{ij}$ is defined similarly.\n\nWhich of the following preprocessing steps will not change the performance of a Nearest Neighbor classifier that uses L1 distance? Select all that apply.\n1. Subtracting the mean $\\mu$ ($\\tilde{p}_{ij}^{(k)}=p_{ij}^{(k)}-\\mu$.)\n2. Subtracting the per pixel mean $\\mu_{ij}$  ($\\tilde{p}_{ij}^{(k)}=p_{ij}^{(k)}-\\mu_{ij}$.)\n3. Subtracting the mean $\\mu$ and dividing by the standard deviation $\\sigma$.\n4. Subtracting the pixel-wise mean $\\mu_{ij}$ and dividing by the pixel-wise standard deviation $\\sigma_{ij}$.\n5. Rotating the coordinate axes of the data.\n\n*Your Answer:*\n2. для построения матрицы отклонений мы должны учитывать отдельные пиксели, поэтому работаем с отдельными элементами матрицы, разница среднего и конкретного значения как раз таким и будет отклонением\n\n\n\n*Your Explanation:*\n\n",
      "metadata": {}
    },
    {
      "cell_type": "markdown",
      "source": "## Question 3\n\nWhich of the following statements about $k$-Nearest Neighbor ($k$-NN) are true in a classification setting, and for all $k$? Select all that apply.\n1. The decision boundary (hyperplane between classes in feature space) of the k-NN classifier is linear.\n2. The training error of a 1-NN will always be lower than that of 5-NN.\n3. The test error of a 1-NN will always be lower than that of a 5-NN.\n4. The time needed to classify a test example with the k-NN classifier grows with the size of the training set.\n5. None of the above.\n\n*Your Answer:*\nнастройки классификации: 1.тк зависит от того насколько меньший вклад вносит $k+1$й сосед \n\n2.в нашем задании мы просто считали количество элементов одного типа и количество элементов другого типа рядом, вклад первого и пятого соседа был одинаков \n\n\n3.аналогично предыдущему пункту зависит от настроек классификации $ \\\\ $\nверно для всех:4.больше элементов-больше размерность матрциы расстояний-больше времени\n\n\n*Your Explanation:*\n\n\n",
      "metadata": {
        "tags": []
      }
    },
    {
      "cell_type": "code",
      "source": "",
      "metadata": {},
      "execution_count": null,
      "outputs": []
    }
  ]
}