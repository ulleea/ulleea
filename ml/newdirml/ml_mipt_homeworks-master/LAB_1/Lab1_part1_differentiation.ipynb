{
 "cells": [
  {
   "cell_type": "markdown",
   "metadata": {},
   "source": [
    "*Credits: materials from this notebook belong to YSDA [Practical DL](https://github.com/yandexdataschool/Practical_DL) course. Special thanks for making them available online.*"
   ]
  },
  {
   "cell_type": "markdown",
   "metadata": {},
   "source": [
    "# Lab assignment №1, part 1\n",
    "\n",
    "This lab assignment consists of several parts. You are supposed to make some transformations, train some models, estimate the quality of the models and explain your results.\n",
    "\n",
    "Several comments:\n",
    "* Don't hesitate to ask questions, it's a good practice.\n",
    "* No private/public sharing, please. The copied assignments will be graded with 0 points.\n",
    "* Blocks of this lab will be graded separately."
   ]
  },
  {
   "cell_type": "markdown",
   "metadata": {},
   "source": [
    "## Part 1. Matrix differentiation"
   ]
  },
  {
   "cell_type": "markdown",
   "metadata": {},
   "source": [
    "Since it easy to google every task please please please try to undestand what's going on. The \"just answer\" thing will be not counted, make sure to present derivation of your solution. It is absolutely OK if you found an answer on web then just exercise in $\\LaTeX$ copying it into here."
   ]
  },
  {
   "cell_type": "code",
   "execution_count": 1,
   "metadata": {},
   "outputs": [],
   "source": [
    "# If on colab, uncomment the following lines\n",
    "\n",
    "# ! wget https://raw.githubusercontent.com/girafe-ai/ml-mipt/basic_f20/homeworks_basic/Lab1_ML_pipeline_and_SVM/grad.png"
   ]
  },
  {
   "cell_type": "markdown",
   "metadata": {},
   "source": [
    "Useful links: \n",
    "[1](http://www.machinelearning.ru/wiki/images/2/2a/Matrix-Gauss.pdf)\n",
    "[2](http://www.atmos.washington.edu/~dennis/MatrixCalculus.pdf)\n",
    "[3](http://research.microsoft.com/en-us/um/people/cmbishop/prml/index.htm)"
   ]
  },
  {
   "cell_type": "markdown",
   "metadata": {},
   "source": [
    "## ex. 1"
   ]
  },
  {
   "cell_type": "markdown",
   "metadata": {},
   "source": [
    "$$  \n",
    "y = x^Tx,  \\quad x \\in \\mathbb{R}^N \n",
    "$$"
   ]
  },
  {
   "cell_type": "markdown",
   "metadata": {},
   "source": [
    "$$\n",
    "\\frac{dy}{dx} = \n",
    "$$ "
   ]
  },
  {
   "cell_type": "markdown",
   "metadata": {
    "collapsed": true,
    "jupyter": {
     "outputs_hidden": true
    }
   },
   "source": [
    "### Solution\n",
    "\n",
    "$$\\frac{d}{dx} = \\begin{pmatrix} \\frac{d}{dx_1} \\\\ \\frac{d}{dx_2} \\\\ ... \\\\ \\frac{d}{dx_N} \\end{pmatrix} $$\n",
    "$$\\frac{dy}{dx} = \\frac{d}{dx} \\sum_{i = 1}^{N} x_i * x_i = 2\\begin{pmatrix} x_1 \\\\ x_2 \\\\ ... \\\\ x_N \\end{pmatrix}$$"
   ]
  },
  {
   "cell_type": "markdown",
   "metadata": {},
   "source": [
    "## ex. 2"
   ]
  },
  {
   "cell_type": "markdown",
   "metadata": {},
   "source": [
    "$$ y = tr(AB) \\quad A,B \\in \\mathbb{R}^{N \\times N} $$ "
   ]
  },
  {
   "cell_type": "markdown",
   "metadata": {},
   "source": [
    "$$\n",
    "\\frac{dy}{dA} =\n",
    "$$"
   ]
  },
  {
   "cell_type": "markdown",
   "metadata": {
    "collapsed": true,
    "jupyter": {
     "outputs_hidden": true
    }
   },
   "source": [
    "### Solution\n",
    "$$ tr(AB) = \\sum_{i = 1}^{N} \\sum_{j = 1}^{N} a_{ij}b_{ji}$$\n",
    "$$ \\frac{d}{dA} = \\begin{pmatrix} \\frac{d}{da_{11}} ... \\frac{d}{da_{1N}} \\\\\n",
    "                                             ... \\\\\n",
    "                                  \\frac{d}{da_{N1}} ... \\frac{d}{da_{NN}} \\end{pmatrix}$$\n",
    "                                  \n",
    "$$\\frac{dy}{dA} = \\frac{d}{dA} tr(AB) = \\frac{d}{dA} \\sum_{i = 1}^{N} \\sum_{j = 1}^{N} a_{ij}b_{ji} = \n",
    "\\begin{pmatrix} \n",
    "\\frac{d}{da_{11}} \\sum_{i = 1}^{N} \\sum_{j = 1}^{N} a_{ij}b_{ji} ... \\frac{d}{da_{1N}} \\sum_{i = 1}^{N} \\sum_{j = 1}^{N} a_{ij}b_{ji} \\\\ \n",
    "... \n",
    "\\\\ \\frac{d}{da_{N1}} \\sum_{i = 1}^{N} \\sum_{j = 1}^{N} a_{ij}b_{ji} ... \\frac{d}{da_{NN}} \\sum_{i = 1}^{N} \\sum_{j = 1}^{N} a_{ij}b_{ji} \\end{pmatrix} = \n",
    "\\begin{pmatrix} b_{11} ... b_{N1} \\\\ ... \\\\ b_{1N} ... b_{NN} \\end{pmatrix} = B^T$$"
   ]
  },
  {
   "cell_type": "markdown",
   "metadata": {},
   "source": [
    "## ex. 3"
   ]
  },
  {
   "cell_type": "markdown",
   "metadata": {},
   "source": [
    "$$  \n",
    "y = x^TAc , \\quad A\\in \\mathbb{R}^{N \\times N}, x\\in \\mathbb{R}^{N}, c\\in \\mathbb{R}^{N} \n",
    "$$"
   ]
  },
  {
   "cell_type": "markdown",
   "metadata": {},
   "source": [
    "$$\n",
    "\\frac{dy}{dx} =\n",
    "$$"
   ]
  },
  {
   "cell_type": "markdown",
   "metadata": {},
   "source": [
    "$$\n",
    "\\frac{dy}{dA} =\n",
    "$$ "
   ]
  },
  {
   "cell_type": "markdown",
   "metadata": {},
   "source": [
    "Hint for the latter (one of the ways): use *ex. 2* result and the fact \n",
    "$$\n",
    "tr(ABC) = tr (CAB)\n",
    "$$"
   ]
  },
  {
   "cell_type": "markdown",
   "metadata": {
    "collapsed": true,
    "jupyter": {
     "outputs_hidden": true
    }
   },
   "source": [
    "### Solution\n",
    "$$x^TAc = x^T \\begin{pmatrix} \\sum_{i} a_{1i}c_i \\\\ ... \\\\ \\sum_{i} a_{Ni}c_i \\end{pmatrix}= \\sum_{j}x_j\\sum_{i}a_{ji}c_i = \\sum_{i}\\sum_{j}a_{ji}c_ix_j$$\n",
    "\n",
    "- $$\\frac{dy}{dx} = \\frac{d}{dx}\\sum_{i}\\sum_{j}a_{ji}c_ix_j = \\begin{pmatrix} \\frac{d}{dx_1} \\sum_{i}\\sum_{j}a_{ji}c_ix_j\\\\ ... \\\\ \\frac{d}{dx_N} \\sum_{i}\\sum_{j}a_{ji}c_ix_j \\end{pmatrix} = \n",
    "\\begin{pmatrix} \\sum_{i}a_{1i}c_i \\\\ ... \\\\ \\sum_{i}a_{ni}c_i \\end{pmatrix}$$\n",
    "\n",
    "\n",
    "\n",
    "- $$\\frac{dy}{dA} = \\frac{d}{dA} \\sum_{i}\\sum_{j}a_{ji}c_ix_j = \\begin{pmatrix} \\frac{d}{da_{11}} \\sum_{i}\\sum_{j}a_{ji}c_ix_j ... \\frac{d}{da_{1N}} \\sum_{i}\\sum_{j}a_{ji}c_ix_j \\\\ ... \\\\ \\frac{d}{da_{N1}} \\sum_{i}\\sum_{j}a_{ji}c_ix_j ... \\frac{d}{da_{NN}} \\sum_{i}\\sum_{j}a_{ji}c_ix_j \\end{pmatrix} = \n",
    "\\begin{pmatrix} x_1c_1 ... x_Nc_1\\\\ ... \\\\ x_1c_N ... x_Nc_N \\end{pmatrix} = cx^T$$"
   ]
  },
  {
   "cell_type": "markdown",
   "metadata": {},
   "source": [
    "## ex. 4"
   ]
  },
  {
   "cell_type": "markdown",
   "metadata": {},
   "source": [
    "Classic matrix factorization example. Given matrix $X$ you need to find $A$, $S$ to approximate $X$. This can be done by simple gradient descent iteratively alternating $A$ and $S$ updates.\n",
    "$$\n",
    "J = || X - AS ||_F^2  , \\quad A\\in \\mathbb{R}^{N \\times R} , \\quad S\\in \\mathbb{R}^{R \\times M}\n",
    "$$\n",
    "$$\n",
    "\\frac{dJ}{dS} = ? \n",
    "$$\n",
    "\n",
    "You may use one of the following approaches:"
   ]
  },
  {
   "cell_type": "markdown",
   "metadata": {},
   "source": [
    "#### First approach\n",
    "Using ex.2 and the fact:\n",
    "$$\n",
    "|| X ||_F^2 = tr(XX^T) \n",
    "$$ \n",
    "it is easy to derive gradients (you can find it in one of the refs). "
   ]
  },
  {
   "cell_type": "markdown",
   "metadata": {},
   "source": [
    "#### Second approach\n",
    "You can use *slightly different techniques* if they suits you. Take a look at this derivation:\n",
    "<img src=\"grad.png\">\n",
    "(excerpt from [Handbook of blind source separation, Jutten, page 517](https://books.google.ru/books?id=PTbj03bYH6kC&printsec=frontcover&dq=Handbook+of+Blind+Source+Separation&hl=en&sa=X&ved=0ahUKEwi-q_apiJDLAhULvXIKHVXJDWcQ6AEIHDAA#v=onepage&q=Handbook%20of%20Blind%20Source%20Separation&f=false), open for better picture)."
   ]
  },
  {
   "cell_type": "markdown",
   "metadata": {},
   "source": [
    "#### Third approach\n",
    "And finally we can use chain rule! \n",
    "let $ F = AS $ \n",
    "\n",
    "**Find**\n",
    "$$\n",
    "\\frac{dJ}{dF} =  \n",
    "$$ \n",
    "and \n",
    "$$\n",
    "\\frac{dF}{dS} =  \n",
    "$$ \n",
    "(the shape should be $ NM \\times RM )$.\n",
    "\n",
    "Now it is easy do get desired gradients:\n",
    "$$\n",
    "\\frac{dJ}{dS} =  \n",
    "$$ "
   ]
  },
  {
   "cell_type": "markdown",
   "metadata": {
    "collapsed": true,
    "jupyter": {
     "outputs_hidden": true
    }
   },
   "source": [
    "### Solution\n",
    "#### First approach\n",
    "$$M = ||X - AS||_F^2 = tr((X - AS)(X - AS)^T) = tr(XX^T - ASX^T - XS^TA^T + ASS^TA^T$$\n",
    "$$\\frac{dM}{dS} = -\\frac{dASX^T}{dS} - \\frac{XS^TA^T}{dS} + \\frac{dASS^TA^T}{dS} = -X^TA - X^TA + S^TA^TA + S^TA^TA = 2(-X^T + S^TA^T)A = 2(AS - X)^TA$$\n",
    "\n",
    "$$Answer: 2(AS - X)^TA$$\n",
    "\n",
    "\n",
    "\n",
    "#### Third approach\n",
    "$$F = AS = \\begin{pmatrix} a_{11} ... a_{1R} \\\\ ... \\\\ a_{N1} .. a_{NR} \\end{pmatrix}\\begin{pmatrix} s_{11} ... s_{1M} \\\\ ... \\\\ s_{R1} ... s_{RM} \\end{pmatrix} = \n",
    "\\begin{pmatrix} \\sum_{i}^{R}a_{1i}s_{i1} ... \\sum_{i}^{R}a_{1i}s_{iM} \\\\ ... \\\\ \\sum_{i}^{R}a_{Ni}s_{i1} ... \\sum_{i}^{R}a_{Ni}s_{iM} \\end{pmatrix}$$\n",
    "\n",
    "$$ \\frac{d}{dS} = \\begin{pmatrix} \\frac{d}{ds_{11}} ... \\frac{d}{ds_{1M}} \\\\ ... \\\\ \\frac{d}{ds_{R1}} ... \\frac{d}{ds_{RM}} \\end{pmatrix}$$\n",
    "                                  \n",
    "$$ \\frac{dF}{dS} = \\begin{pmatrix} \\frac{d}{ds_{11}} F ... \\frac{d}{ds_{1M}} F \\\\ ... \\\\ \\frac{d}{ds_{R1}} F ... \\frac{d}{ds_{RM}} F \\end{pmatrix} = \n",
    "\\begin{pmatrix} {\\begin{pmatrix}a_{11} ... a_{11}\\\\...\\\\a_{N1} ... a_{N1} \\end{pmatrix}}\n",
    "                   \\ ...\\  \n",
    "                  {\\begin{pmatrix}a_{11} ... a_{11}\\\\...\\\\a_{N1} ... a_{N1} \\end{pmatrix}}\\\\\n",
    "                   ...\\\\\n",
    "                  {\\begin{pmatrix}a_{1R} ... a_{1R}\\\\...\\\\a_{NR} ... a_{NR} \\end{pmatrix}}\n",
    "                   \\ ...\\ \n",
    "                  {\\begin{pmatrix}a_{1R} ... a_{1R}\\\\...\\\\a_{NR} ... a_{NR} \\end{pmatrix}}\\\\\n",
    "\\end{pmatrix}$$\n",
    "\n",
    "$$\\frac{dJ}{dF} = 2(F - X)$$\n",
    "\n",
    "Something going wrong..."
   ]
  },
  {
   "cell_type": "markdown",
   "metadata": {},
   "source": []
  },
  {
   "cell_type": "code",
   "execution_count": null,
   "metadata": {},
   "outputs": [],
   "source": []
  }
 ],
 "metadata": {
  "kernelspec": {
   "display_name": "Python 3",
   "language": "python",
   "name": "python3"
  },
  "language_info": {
   "codemirror_mode": {
    "name": "ipython",
    "version": 3
   },
   "file_extension": ".py",
   "mimetype": "text/x-python",
   "name": "python",
   "nbconvert_exporter": "python",
   "pygments_lexer": "ipython3",
   "version": "3.8.10"
  }
 },
 "nbformat": 4,
 "nbformat_minor": 4
}
