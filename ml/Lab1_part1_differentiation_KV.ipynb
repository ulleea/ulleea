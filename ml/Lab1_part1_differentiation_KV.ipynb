{
  "nbformat": 4,
  "nbformat_minor": 0,
  "metadata": {
    "kernelspec": {
      "display_name": "Py3 research env",
      "language": "python",
      "name": "py3_research"
    },
    "language_info": {
      "codemirror_mode": {
        "name": "ipython",
        "version": 3
      },
      "file_extension": ".py",
      "mimetype": "text/x-python",
      "name": "python",
      "nbconvert_exporter": "python",
      "pygments_lexer": "ipython3",
      "version": "3.7.7"
    },
    "colab": {
      "name": "Lab1_part1_differentiation_KV.ipynb",
      "provenance": [],
      "collapsed_sections": []
    }
  },
  "cells": [
    {
      "cell_type": "markdown",
      "metadata": {
        "id": "Yf463ojrtPio"
      },
      "source": [
        "*Credits: materials from this notebook belong to YSDA [Practical DL](https://github.com/yandexdataschool/Practical_DL) course. Special thanks for making them available online.*"
      ]
    },
    {
      "cell_type": "markdown",
      "metadata": {
        "id": "XgR4ralOtPix"
      },
      "source": [
        "# Lab assignment №1, part 1\n",
        "\n",
        "This lab assignment consists of several parts. You are supposed to make some transformations, train some models, estimate the quality of the models and explain your results.\n",
        "\n",
        "Several comments:\n",
        "* Don't hesitate to ask questions, it's a good practice.\n",
        "* No private/public sharing, please. The copied assignments will be graded with 0 points.\n",
        "* Blocks of this lab will be graded separately."
      ]
    },
    {
      "cell_type": "markdown",
      "metadata": {
        "id": "BOnip1IDtPiy"
      },
      "source": [
        "## Part 1. Matrix differentiation"
      ]
    },
    {
      "cell_type": "markdown",
      "metadata": {
        "id": "qZacDmWktPiz"
      },
      "source": [
        "Since it easy to google every task please please please try to undestand what's going on. The \"just answer\" thing will be not counted, make sure to present derivation of your solution. It is absolutely OK if you found an answer on web then just exercise in $\\LaTeX$ copying it into here."
      ]
    },
    {
      "cell_type": "code",
      "metadata": {
        "id": "EVqaHrJitPi0"
      },
      "source": [
        "# If on colab, uncomment the following lines\n",
        "\n",
        "# ! wget https://raw.githubusercontent.com/girafe-ai/ml-mipt/basic_f20/homeworks_basic/Lab1_ML_pipeline_and_SVM/grad.png"
      ],
      "execution_count": null,
      "outputs": []
    },
    {
      "cell_type": "markdown",
      "metadata": {
        "id": "lak3WonAF_Qg"
      },
      "source": [
        "All further transformations are made on the assumption that the symbol $$ \\frac{d}{dx} $$ means the particle derivative by x. "
      ]
    },
    {
      "cell_type": "markdown",
      "metadata": {
        "id": "saHBwkF4tPi1"
      },
      "source": [
        "Useful links: \n",
        "[1](http://www.machinelearning.ru/wiki/images/2/2a/Matrix-Gauss.pdf)\n",
        "[2](http://www.atmos.washington.edu/~dennis/MatrixCalculus.pdf)\n",
        "[3](http://cal.cs.illinois.edu/~johannes/research/matrix%20calculus.pdf)\n",
        "[4](http://research.microsoft.com/en-us/um/people/cmbishop/prml/index.htm)"
      ]
    },
    {
      "cell_type": "markdown",
      "metadata": {
        "id": "oncV-drxtPi1"
      },
      "source": [
        "## ex. 1"
      ]
    },
    {
      "cell_type": "markdown",
      "metadata": {
        "id": "J6kSfG_NtPi2"
      },
      "source": [
        "$$  \n",
        "y = x^Tx,  \\quad x \\in \\mathbb{R}^N \n",
        "$$"
      ]
    },
    {
      "cell_type": "markdown",
      "metadata": {
        "id": "O4kdXkmHtPi2"
      },
      "source": [
        "$$\n",
        "\\frac{dy}{dx} = 2x\n",
        "$$ "
      ]
    },
    {
      "cell_type": "markdown",
      "metadata": {
        "id": "QRRCtnSrtXXU"
      },
      "source": [
        "Solution: \n",
        "$$\n",
        "\\frac{dy}{dx} = \\frac{dx^Tx}{dx} = x^T\\frac{dx}{dx} + \\frac{dx^T}{dx}x = x^T\\frac{dx}{dx} + x^T\\frac{dx}{dx} = 2x^T  \n",
        "$$ "
      ]
    },
    {
      "cell_type": "code",
      "metadata": {
        "collapsed": true,
        "id": "3N5FVYDstPi3"
      },
      "source": [
        ""
      ],
      "execution_count": null,
      "outputs": []
    },
    {
      "cell_type": "markdown",
      "metadata": {
        "id": "n1Em39RqtPi3"
      },
      "source": [
        "## ex. 2"
      ]
    },
    {
      "cell_type": "markdown",
      "metadata": {
        "id": "mX9xwxWBtPi3"
      },
      "source": [
        "$$ y = tr(AB) \\quad A,B \\in \\mathbb{R}^{N \\times N} $$ "
      ]
    },
    {
      "cell_type": "markdown",
      "metadata": {
        "id": "3zkHwAcatPi4"
      },
      "source": [
        "$$\n",
        "\\frac{dy}{dA} = B^T\n",
        "$$"
      ]
    },
    {
      "cell_type": "markdown",
      "metadata": {
        "id": "Sh8CAP4QySXj"
      },
      "source": [
        "Solution:\n",
        "$$y =\\sum \\limits_{i=1}^N \\sum \\limits_{j=1}^N{A_{ij}B_{ji}}$$ $$$$\n",
        "\n",
        "$$\\frac{dy}{dA_{kl}} = B_{lk}$$\n",
        "\n",
        "$$\n",
        "\\frac{dy}{dA} = B^T\n",
        "$$"
      ]
    },
    {
      "cell_type": "code",
      "metadata": {
        "collapsed": true,
        "id": "bKlH1BXPtPi4"
      },
      "source": [
        ""
      ],
      "execution_count": null,
      "outputs": []
    },
    {
      "cell_type": "markdown",
      "metadata": {
        "id": "CC1c7dzrtPi4"
      },
      "source": [
        "## ex. 3"
      ]
    },
    {
      "cell_type": "markdown",
      "metadata": {
        "id": "H2369M1JtPi5"
      },
      "source": [
        "$$  \n",
        "y = x^TAc , \\quad A\\in \\mathbb{R}^{N \\times N}, x\\in \\mathbb{R}^{N}, c\\in \\mathbb{R}^{N} \n",
        "$$"
      ]
    },
    {
      "cell_type": "markdown",
      "metadata": {
        "id": "sMUaxyzktPi5"
      },
      "source": [
        "$$\n",
        "\\frac{dy}{dx} = Ac\n",
        "$$"
      ]
    },
    {
      "cell_type": "markdown",
      "metadata": {
        "id": "GXZdzryjtPi5"
      },
      "source": [
        "$$\n",
        "\\frac{dy}{dA} = x^T c\n",
        "$$ "
      ]
    },
    {
      "cell_type": "markdown",
      "metadata": {
        "id": "FGGwszB00fZM"
      },
      "source": [
        "Solution:\n",
        "$$y = \\sum\\limits_{i=1}^N \\sum\\limits_{j=1}^N {x_i A_{ij}c_j}$$\n",
        "\n",
        "$$\\frac{dy}{dx_k}= \\sum \\limits_{j=1}^N A_{kj}c_j$$\n",
        "\n",
        "$$\\frac{dy}{dA_{kl}} = x_k c_l$$\n",
        "$$\n",
        "\\frac{dy}{dA} =  xc^T\n",
        "$$ "
      ]
    },
    {
      "cell_type": "markdown",
      "metadata": {
        "id": "DB-0hw6ZtPi6"
      },
      "source": [
        "Hint for the latter (one of the ways): use *ex. 2* result and the fact \n",
        "$$\n",
        "tr(ABC) = tr (CAB)\n",
        "$$"
      ]
    },
    {
      "cell_type": "code",
      "metadata": {
        "collapsed": true,
        "id": "Add94Q0KtPi6"
      },
      "source": [
        ""
      ],
      "execution_count": null,
      "outputs": []
    },
    {
      "cell_type": "markdown",
      "metadata": {
        "id": "c3clsI13tPi6"
      },
      "source": [
        "## ex. 4"
      ]
    },
    {
      "cell_type": "markdown",
      "metadata": {
        "id": "jIEf6kg9tPi7"
      },
      "source": [
        "Classic matrix factorization example. Given matrix $X$ you need to find $A$, $S$ to approximate $X$. This can be done by simple gradient descent iteratively alternating $A$ and $S$ updates.\n",
        "$$\n",
        "J = || X - AS ||_F^2  , \\quad A\\in \\mathbb{R}^{N \\times R} , \\quad S\\in \\mathbb{R}^{R \\times M}\n",
        "$$\n",
        "$$\n",
        "\\frac{dJ}{dS} = ? \n",
        "$$\n",
        "\n",
        "You may use one of the following approaches:"
      ]
    },
    {
      "cell_type": "markdown",
      "metadata": {
        "id": "b0iuovg6tPi7"
      },
      "source": [
        "#### First approach\n",
        "Using ex.2 and the fact:\n",
        "$$\n",
        "|| X ||_F^2 = tr(XX^T) \n",
        "$$ \n",
        "it is easy to derive gradients (you can find it in one of the refs). "
      ]
    },
    {
      "cell_type": "markdown",
      "metadata": {
        "collapsed": true,
        "id": "25uhYVL7tPi8"
      },
      "source": [
        "#### Second approach\n",
        "You can use *slightly different techniques* if they suits you. Take a look at this derivation:\n",
        "<img src=\"https://github.com/girafe-ai/ml-mipt/blob/basic_s21/homeworks_basic/Lab1_ML_pipeline_and_SVM/grad.png?raw=1\">\n",
        "(excerpt from [Handbook of blind source separation, Jutten, page 517](https://books.google.ru/books?id=PTbj03bYH6kC&printsec=frontcover&dq=Handbook+of+Blind+Source+Separation&hl=en&sa=X&ved=0ahUKEwi-q_apiJDLAhULvXIKHVXJDWcQ6AEIHDAA#v=onepage&q=Handbook%20of%20Blind%20Source%20Separation&f=false), open for better picture)."
      ]
    },
    {
      "cell_type": "markdown",
      "metadata": {
        "collapsed": true,
        "id": "6zDnMsGBtPi9"
      },
      "source": [
        "#### Third approach\n",
        "And finally we can use chain rule! \n",
        "let $ F = AS $ \n",
        "\n",
        "**Find**\n",
        "$$\n",
        "\\frac{dJ}{dF} =  \n",
        "$$ \n",
        "and \n",
        "$$\n",
        "\\frac{dF}{dS} =  \n",
        "$$ \n",
        "(the shape should be $ NM \\times RM )$.\n",
        "\n",
        "Now it is easy do get desired gradients:\n",
        "$$\n",
        "\\frac{dJ}{dS} =  -2 (A^TX-A^TAS)\n",
        "$$ "
      ]
    },
    {
      "cell_type": "markdown",
      "metadata": {
        "id": "oGodF0193_Fw"
      },
      "source": [
        "Solution: $$tr(A+B) = tr(A)+tr(B), tr(A^T) = tr(A)$$\n",
        "\n",
        "$$J = || X - AS ||_F^2 = tr((X-AS)^T) = tr((X-AS)^T (X-AS))$$\n",
        "\n",
        "$$J(S+dS) - J(S) = tr((X-AS-AdS)^T(X-AS-AdS)) - tr((X-AS)^T (X-AS)) = -tr((AdS)^T(X-AS)) - tr((X-AS)^T (AdS)) + o(||dS||_F)$$\n",
        "\n",
        "$$((AdS)^T (X-AS))^T = (X-AS)^T (AdS)$$\n",
        "\n",
        "$$J(S+dS) - J(S) = - 2 tr(((X-AS)^T (AdS))) + o(||dS||_F) = - 2 tr((A^TX-A^TAS)^T dS) + o(||dS||_F) = \\\\ = -2\\sum \\limits_{i=1}^M \\sum \\limits_{j=1}^R ((A^TX-A^TAS)^T)_{ij} dS_{ji} + ... = -2\\sum \\limits_{i=1}^R \\sum \\limits_{j=1}^M ((A^TX-A^TAS))_{ij} dS_{ij} + ...  $$\n",
        "\n",
        "$$\\frac{dJ}{dS_{kl}} =-2 (A^TX-A^TAS)_{kl}  $$\n",
        "\n",
        "$$\n",
        "\\frac{dJ}{dF} =  -\\frac{d(tr[XS^TA^T])}{dAS} -\\frac{d(tr[ASX^T])}{dAS} +\\frac{d(tr[ASS^TA^T])}{dAS} =\\frac{d(tr[ASS^TA^T])}{dAS} -\\frac{d(tr[XS^TA^T])}{dAS}-X^T =  \\frac{d(tr[AS(AS)^T])}{dAS} - \\frac{d(tr[X(AS)^T])}{dAS} - X^T = 2(AS)^T - 2X^T = 2(AS-X)^T\n",
        "$$ \n",
        "and \n",
        "$$\n",
        "\\frac{dF}{dS} = \\frac{dAS}{dS} = \\frac{d(SA)^T}{dS} = A\n",
        "$$ \n",
        "(the shape should be $ NM \\times RM )$.\n",
        "\n",
        "Now it is easy do get desired gradients:\n",
        "$$\n",
        "\\frac{dJ}{dS} =  \\frac{dJ}{dF}  \\frac{dF}{dS} = 2(AS-X)^TA = 2A^T(AS-X)\n",
        "$$ \n",
        "\n",
        "As we can see, despite the path we choose the result would be the same"
      ]
    },
    {
      "cell_type": "code",
      "metadata": {
        "collapsed": true,
        "id": "6RnnMNertPi9"
      },
      "source": [
        ""
      ],
      "execution_count": null,
      "outputs": []
    }
  ]
}